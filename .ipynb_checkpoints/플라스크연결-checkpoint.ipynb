{
 "cells": [
  {
   "cell_type": "code",
   "execution_count": 1,
   "metadata": {},
   "outputs": [],
   "source": [
    "from flask import Flask # 플라스크 클래스 임포트\n",
    "from flask import request, redirect\n",
    "import pickle # 데이터 저장/로딩을 위한 모듈\n",
    "import pandas as pd\n",
    "import numpy as np\n",
    "from typing import *\n",
    "import random\n",
    "import warnings\n",
    "warnings.filterwarnings('ignore')"
   ]
  },
  {
   "cell_type": "markdown",
   "metadata": {},
   "source": [
    "# 모델되는지확인"
   ]
  },
  {
   "cell_type": "code",
   "execution_count": 2,
   "metadata": {},
   "outputs": [],
   "source": [
    "with open('trip_columns.pkl','rb') as f :\n",
    "    trip_columns = pickle.load(f)"
   ]
  },
  {
   "cell_type": "code",
   "execution_count": 44,
   "metadata": {},
   "outputs": [],
   "source": [
    "with open('knn_model.pkl', 'rb') as f :\n",
    "    model = pickle.load(f)"
   ]
  },
  {
   "cell_type": "code",
   "execution_count": 45,
   "metadata": {},
   "outputs": [
    {
     "data": {
      "text/plain": [
       "KNeighborsClassifier()"
      ]
     },
     "execution_count": 45,
     "metadata": {},
     "output_type": "execute_result"
    }
   ],
   "source": [
    "model"
   ]
  },
  {
   "cell_type": "markdown",
   "metadata": {},
   "source": [
    "# DB연결"
   ]
  },
  {
   "cell_type": "code",
   "execution_count": 51,
   "metadata": {
    "scrolled": true
   },
   "outputs": [
    {
     "data": {
      "text/plain": [
       "[('4', '42', '#랜드마크#전통시장#풍경감상#체험'),\n",
       " ('2', '43', '#공원#풍경감상#역사탐방'),\n",
       " ('4', '1', '#해변#풍경감상#맛집탐방'),\n",
       " ('4', '2', '#레포츠#쇼핑#공원#랜드마크#풍경감상#힐링'),\n",
       " ('1', '3', '#해변#랜드마크#풍경감상#역사탐방'),\n",
       " ('1', '4', '#체험#문화마을#레포츠#풍경감상#맛집탐방#힐링'),\n",
       " ('1', '5', '#체험#공원#풍경감상'),\n",
       " ('4', '6', '#해변#맛집탐방#문화마을#풍경감상#역사탐방#힐링'),\n",
       " ('4', '7', '#산#해변#랜드마크#풍경감상#체험#힐링'),\n",
       " ('1', '8', '#산#풍경감상#역사탐방'),\n",
       " ('2', '9', '#맛집탐방#공원#풍경감상#역사탐방#힐링'),\n",
       " ('4', '10', '#공원#풍경감상#역사탐방'),\n",
       " ('3', '11', '#공원#풍경감상#힐링'),\n",
       " ('3', '12', '#공원#공연#랜드마크#풍경감상'),\n",
       " ('4', '13', '#해변#랜드마크#풍경감상#역사탐방'),\n",
       " ('3', '14', '#전통시장#체험#축제#힐링'),\n",
       " ('3', '15', '#해변#전통시장#풍경감상'),\n",
       " ('4', '16', '#산#풍경감상#역사탐방'),\n",
       " ('3', '17', '#랜드마크#전통시장#풍경감상#체험'),\n",
       " ('3', '18', '#맛집탐방#공원#풍경감상#역사탐방#힐링'),\n",
       " ('4', '19', '#맛집탐방#전통시장#힐링#역사탐방'),\n",
       " ('2', '20', '#해변#풍경감상#맛집탐방'),\n",
       " ('4', '21', '#체험#문화마을#레포츠#풍경감상#맛집탐방#힐링'),\n",
       " ('2', '22', '#공원#전통시장#맛집탐방#풍경감상#축제'),\n",
       " ('4', '23', '#해변#맛집탐방#문화마을#풍경감상#역사탐방#힐링'),\n",
       " ('1', '24', '#맛집탐방#랜드마크#전통시장#풍경감상'),\n",
       " ('1', '25', '#랜드마크#전통시장#풍경감상#체험'),\n",
       " ('2', '26', '#맛집탐방#공원#풍경감상#역사탐방#힐링'),\n",
       " ('4', '27', '#맛집탐방#전통시장#힐링#역사탐방'),\n",
       " ('3', '28', '#공원#전통시장#풍경감상#힐링'),\n",
       " ('3', '29', '#산#해변#랜드마크#풍경감상#체험#힐링'),\n",
       " ('0', '30', '#공원#풍경감상#힐링'),\n",
       " ('0', '31', '#전통시장#체험#축제#힐링?'),\n",
       " ('2', '32', '#해변#전통시장#풍경감상'),\n",
       " ('3', '33', '#해변#맛집탐방#문화마을#풍경감상#역사탐방#힐링'),\n",
       " ('2', '34', '#랜드마크#풍경감상#체험'),\n",
       " ('0', '35', '#맛집탐방#전통시장#힐링#역사탐방'),\n",
       " ('3', '36', '#산#해변#랜드마크#풍경감상#체험#힐링'),\n",
       " ('2', '37', '#체험#문화마을#레포츠#풍경감상#맛집탐방#힐링'),\n",
       " ('4', '38', '#체험#공원#풍경감상'),\n",
       " ('2', '39', '#체험#문화마을#레포츠#풍경감상#맛집탐방#힐링'),\n",
       " ('2', '40', '#체험#공원#풍경감상'),\n",
       " ('4', '41', '#전통시장#체험#축제#힐링?')]"
      ]
     },
     "execution_count": 51,
     "metadata": {},
     "output_type": "execute_result"
    }
   ],
   "source": [
    "import cx_Oracle\n",
    "import os\n",
    "os.putenv('NLS_LANG', 'KOREAN_KOREA.KO16MSWIN949')\n",
    "conn = cx_Oracle.connect('hr','hr','172.30.1.60:1521/XE')\n",
    "cursor = conn.cursor()\n",
    "sql = \"select cluster_num,cour_num,cour_keyword from tb_course\"\n",
    "cursor.execute(sql)\n",
    "res = cursor.fetchall()\n",
    "res"
   ]
  },
  {
   "cell_type": "code",
   "execution_count": 52,
   "metadata": {},
   "outputs": [],
   "source": [
    "def preprocessing(data_dict : Dict) -> Sequence:\n",
    "    with open('trip_columns.pkl','rb') as f :\n",
    "        trip_columns = pickle.load(f)\n",
    "    \n",
    "    \n",
    "    df = pd.DataFrame( np.zeros((1,4)) , columns=trip_columns)\n",
    "    df['성별'] = data_dict['성별']\n",
    "    df['여행에서얼마나이용'] = data_dict['여행에서얼마나이용']\n",
    "    df['누구와여행'] = data_dict['누구와여행']\n",
    "    df['여행우선순위'] = data_dict['여행우선순위']\n",
    "    \n",
    "    df['성별'] = df['성별'].map({'남자':1, '여자':0})\n",
    "    \n",
    "   \n",
    "    df['여행에서얼마나이용'] = df['여행에서얼마나이용'].map({'1시간 이상 2시간 이하':0,'2시간 이상':1, '30분 이상 1시간 이하':2,'30분 이하':3})\n",
    "   \n",
    "    df['누구와여행'] = df['누구와여행'].map({'가족':0,'부부/연인':1,'친구/모임':2,'홀로':3})\n",
    "    \n",
    "    df['여행우선순위'] = df['여행우선순위'].map({'맛_여행':0,'액티비티/레저여행':1,'체험/관광/역사':2,'축제/공연/문화예술여행':3,'휴식/힐링여행':4})\n",
    "    \n",
    "    \n",
    "\n",
    "    return df\n",
    "\n",
    "def recommend(cluster_num : str,hash_tag : str)->list:\n",
    "    recommend_num = []\n",
    "    for i in range(len(res)):\n",
    "        t = res[i][2].split('#') #안에있는 해시태그를 분리\n",
    "        if res[i][0] == cluster_num and hash_tag in t:\n",
    "            recommend_num.append(res[i][1])\n",
    "            print(recommend_num)\n",
    "\n",
    "    x = random.sample(recommend_num,3)\n",
    "    \n",
    "    return x\n",
    "    "
   ]
  },
  {
   "cell_type": "code",
   "execution_count": 56,
   "metadata": {
    "scrolled": true
   },
   "outputs": [
    {
     "name": "stdout",
     "output_type": "stream",
     "text": [
      " * Serving Flask app \"__main__\" (lazy loading)\n",
      " * Environment: production\n",
      "   WARNING: This is a development server. Do not use it in a production deployment.\n",
      "   Use a production WSGI server instead.\n",
      " * Debug mode: off\n"
     ]
    },
    {
     "name": "stderr",
     "output_type": "stream",
     "text": [
      " * Running on http://127.0.0.1:9000/ (Press CTRL+C to quit)\n"
     ]
    },
    {
     "data": {
      "text/plain": [
       "{'성별': '여자',\n",
       " '여행에서얼마나이용': '30분 이상 1시간 이하',\n",
       " '누구와여행': '가족',\n",
       " '여행우선순위': '맛_여행',\n",
       " '해시태그': '풍경감상'}"
      ]
     },
     "metadata": {},
     "output_type": "display_data"
    },
    {
     "data": {
      "text/html": [
       "<div>\n",
       "<style scoped>\n",
       "    .dataframe tbody tr th:only-of-type {\n",
       "        vertical-align: middle;\n",
       "    }\n",
       "\n",
       "    .dataframe tbody tr th {\n",
       "        vertical-align: top;\n",
       "    }\n",
       "\n",
       "    .dataframe thead th {\n",
       "        text-align: right;\n",
       "    }\n",
       "</style>\n",
       "<table border=\"1\" class=\"dataframe\">\n",
       "  <thead>\n",
       "    <tr style=\"text-align: right;\">\n",
       "      <th></th>\n",
       "      <th>성별</th>\n",
       "      <th>여행에서얼마나이용</th>\n",
       "      <th>누구와여행</th>\n",
       "      <th>여행우선순위</th>\n",
       "    </tr>\n",
       "  </thead>\n",
       "  <tbody>\n",
       "    <tr>\n",
       "      <th>0</th>\n",
       "      <td>0</td>\n",
       "      <td>2</td>\n",
       "      <td>0</td>\n",
       "      <td>0</td>\n",
       "    </tr>\n",
       "  </tbody>\n",
       "</table>\n",
       "</div>"
      ],
      "text/plain": [
       "   성별  여행에서얼마나이용  누구와여행  여행우선순위\n",
       "0   0          2      0       0"
      ]
     },
     "metadata": {},
     "output_type": "display_data"
    },
    {
     "data": {
      "text/plain": [
       "array([1])"
      ]
     },
     "metadata": {},
     "output_type": "display_data"
    },
    {
     "name": "stdout",
     "output_type": "stream",
     "text": [
      "['3']\n",
      "['3', '4']\n",
      "['3', '4', '5']\n",
      "['3', '4', '5', '8']\n",
      "['3', '4', '5', '8', '24']\n",
      "['3', '4', '5', '8', '24', '25']\n"
     ]
    },
    {
     "data": {
      "text/plain": [
       "['5', '25', '24']"
      ]
     },
     "metadata": {},
     "output_type": "display_data"
    },
    {
     "name": "stderr",
     "output_type": "stream",
     "text": [
      "127.0.0.1 - - [07/Mar/2021 21:48:11] \"\u001b[32mPOST /trip/cluster HTTP/1.1\u001b[0m\" 302 -\n"
     ]
    },
    {
     "data": {
      "text/plain": [
       "{'성별': '여자',\n",
       " '여행에서얼마나이용': '30분 이상 1시간 이하',\n",
       " '누구와여행': '가족',\n",
       " '여행우선순위': '맛_여행',\n",
       " '해시태그': '풍경감상'}"
      ]
     },
     "metadata": {},
     "output_type": "display_data"
    },
    {
     "data": {
      "text/html": [
       "<div>\n",
       "<style scoped>\n",
       "    .dataframe tbody tr th:only-of-type {\n",
       "        vertical-align: middle;\n",
       "    }\n",
       "\n",
       "    .dataframe tbody tr th {\n",
       "        vertical-align: top;\n",
       "    }\n",
       "\n",
       "    .dataframe thead th {\n",
       "        text-align: right;\n",
       "    }\n",
       "</style>\n",
       "<table border=\"1\" class=\"dataframe\">\n",
       "  <thead>\n",
       "    <tr style=\"text-align: right;\">\n",
       "      <th></th>\n",
       "      <th>성별</th>\n",
       "      <th>여행에서얼마나이용</th>\n",
       "      <th>누구와여행</th>\n",
       "      <th>여행우선순위</th>\n",
       "    </tr>\n",
       "  </thead>\n",
       "  <tbody>\n",
       "    <tr>\n",
       "      <th>0</th>\n",
       "      <td>0</td>\n",
       "      <td>2</td>\n",
       "      <td>0</td>\n",
       "      <td>0</td>\n",
       "    </tr>\n",
       "  </tbody>\n",
       "</table>\n",
       "</div>"
      ],
      "text/plain": [
       "   성별  여행에서얼마나이용  누구와여행  여행우선순위\n",
       "0   0          2      0       0"
      ]
     },
     "metadata": {},
     "output_type": "display_data"
    },
    {
     "data": {
      "text/plain": [
       "array([1])"
      ]
     },
     "metadata": {},
     "output_type": "display_data"
    },
    {
     "name": "stdout",
     "output_type": "stream",
     "text": [
      "['3']\n",
      "['3', '4']\n",
      "['3', '4', '5']\n",
      "['3', '4', '5', '8']\n",
      "['3', '4', '5', '8', '24']\n",
      "['3', '4', '5', '8', '24', '25']\n"
     ]
    },
    {
     "data": {
      "text/plain": [
       "['3', '24', '4']"
      ]
     },
     "metadata": {},
     "output_type": "display_data"
    },
    {
     "name": "stderr",
     "output_type": "stream",
     "text": [
      "127.0.0.1 - - [07/Mar/2021 21:48:17] \"\u001b[32mPOST /trip/cluster HTTP/1.1\u001b[0m\" 302 -\n"
     ]
    }
   ],
   "source": [
    "app = Flask(__name__)\n",
    "with open('knn_model.pkl', 'rb') as f :\n",
    "    model = pickle.load(f)\n",
    "#이게 플라스크\n",
    "@app.route('/trip/cluster',methods = [\"GET\",\"POST\"])\n",
    "def Income_Server():\n",
    "    if request.method == 'POST' : \n",
    "        data = request.form.to_dict()\n",
    "        display(data)\n",
    "        hash_tag = data.get('해시태그')\n",
    "        del data['해시태그']\n",
    "        \n",
    "        df = preprocessing(data)\n",
    "        display(df)\n",
    "        cluster_num = model.predict(df)\n",
    "        display(cluster_num)\n",
    "        \n",
    "        course_num = recommend(str(cluster_num[0]),hash_tag)\n",
    "        display(course_num)\n",
    "        #3개 보내주기 \n",
    "        return redirect(\"http://localhost:8090/scooter_mj/recommend.jsp?cluster_num=\"+str(cluster_num[0])+\"&course_num0=\"+str(course_num[0])+\"&course_num1=\"+str(course_num[1]))\n",
    "    else : \n",
    "        df = preprocessing(request.args)\n",
    "        pre = model.predict(df)\n",
    "        print(pre)\n",
    "        return \"Get방식 입니다~~\"\n",
    "\n",
    "\n",
    "if __name__ == \"__main__\" :\n",
    "    app.run(host=\"127.0.0.1\", port=\"9000\")"
   ]
  },
  {
   "cell_type": "code",
   "execution_count": null,
   "metadata": {},
   "outputs": [],
   "source": []
  }
 ],
 "metadata": {
  "kernelspec": {
   "display_name": "Python 3",
   "language": "python",
   "name": "python3"
  },
  "language_info": {
   "codemirror_mode": {
    "name": "ipython",
    "version": 3
   },
   "file_extension": ".py",
   "mimetype": "text/x-python",
   "name": "python",
   "nbconvert_exporter": "python",
   "pygments_lexer": "ipython3",
   "version": "3.8.5"
  }
 },
 "nbformat": 4,
 "nbformat_minor": 4
}
